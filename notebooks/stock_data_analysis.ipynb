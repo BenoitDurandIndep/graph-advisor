{
 "cells": [
  {
   "cell_type": "markdown",
   "id": "49fd7485",
   "metadata": {},
   "source": [
    "# Stock Data Analysis Project\n",
    "This notebook demonstrates how to access and preview stock data files located in a sibling `data` folder outside the current project directory.\n",
    "\n",
    "**Workflow:**\n",
    "1. Set up the path to the external data folder.\n",
    "2. List available files in the data folder.\n",
    "3. Load a sample data file.\n",
    "4. Preview the data contents."
   ]
  },
  {
   "cell_type": "markdown",
   "id": "4f286d92",
   "metadata": {},
   "source": [
    "## 1. Set Up Data Path\n",
    "Define the path to the external `data` folder, which is located at the same level as this project directory."
   ]
  },
  {
   "cell_type": "code",
   "execution_count": null,
   "id": "0c03a74a",
   "metadata": {},
   "outputs": [],
   "source": [
    "# Define the path to the external data folder\n",
    "import os\n",
    "DATA_FOLDER = os.path.abspath(os.path.join(os.getcwd(), '../..', 'data/dl_quant_fx_1'))\n",
    "print(f\"Data folder path: {DATA_FOLDER}\")"
   ]
  },
  {
   "cell_type": "markdown",
   "id": "b08284e4",
   "metadata": {},
   "source": [
    "## 2. List Files in Data Folder\n",
    "Use Python to list all files available in the `data` folder to verify access."
   ]
  },
  {
   "cell_type": "code",
   "execution_count": null,
   "id": "ca41e27c",
   "metadata": {},
   "outputs": [],
   "source": [
    "# List all files in the data folder\n",
    "data_files = os.listdir(DATA_FOLDER)\n",
    "print(\"Files in data folder:\", data_files)"
   ]
  },
  {
   "cell_type": "markdown",
   "id": "23d7e717",
   "metadata": {},
   "source": [
    "## 3. Load a Sample Data File\n",
    "Load a sample data file (e.g., CSV) from the `data` folder using pandas."
   ]
  },
  {
   "cell_type": "code",
   "execution_count": null,
   "id": "edefc4c4",
   "metadata": {},
   "outputs": [],
   "source": [
    "# Load a sample CSV file from the data folder using pandas\n",
    "import pandas as pd\n",
    "sample_file = '2025.5.31AUDUSD_M1_UTCPlus02-M1-NoSession.csv'\n",
    "# for f in data_files:\n",
    "#     if f.lower().endswith('.csv'):\n",
    "#         sample_file = f\n",
    "#         break\n",
    "if sample_file:\n",
    "    data_path = os.path.join(DATA_FOLDER, sample_file)\n",
    "    df = pd.read_csv(data_path)\n",
    "    print(f\"Loaded file: {sample_file}\")\n",
    "else:\n",
    "    print(\"No CSV file found in data folder.\")"
   ]
  },
  {
   "cell_type": "markdown",
   "id": "aab97869",
   "metadata": {},
   "source": [
    "## 4. Preview Data Contents\n",
    "Display the first few rows of the loaded data to verify successful loading."
   ]
  },
  {
   "cell_type": "code",
   "execution_count": null,
   "id": "9a67571e",
   "metadata": {},
   "outputs": [],
   "source": [
    "# Display the first few rows of the loaded data\n",
    "if sample_file:\n",
    "    display(df.head())"
   ]
  }
 ],
 "metadata": {
  "kernelspec": {
   "display_name": ".env",
   "language": "python",
   "name": "python3"
  },
  "language_info": {
   "codemirror_mode": {
    "name": "ipython",
    "version": 3
   },
   "file_extension": ".py",
   "mimetype": "text/x-python",
   "name": "python",
   "nbconvert_exporter": "python",
   "pygments_lexer": "ipython3",
   "version": "3.12.10"
  }
 },
 "nbformat": 4,
 "nbformat_minor": 5
}
